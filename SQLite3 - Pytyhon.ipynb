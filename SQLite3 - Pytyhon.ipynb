{
 "cells": [
  {
   "cell_type": "code",
   "execution_count": null,
   "metadata": {},
   "outputs": [],
   "source": [
    "import Remake_Dataset as rd \n",
    "import pandas as pd\n",
    "import sqlite3"
   ]
  },
  {
   "cell_type": "code",
   "execution_count": null,
   "metadata": {},
   "outputs": [
    {
     "name": "stderr",
     "output_type": "stream",
     "text": [
      "C:\\Users\\Lenovo\\AppData\\Local\\Temp\\ipykernel_15596\\3626823192.py:2: DtypeWarning: Columns (0) have mixed types. Specify dtype option on import or set low_memory=False.\n",
      "  df = pd.read_csv(r\"D:\\Download\\Slide kỳ 3\\ADY201\\asm final\\Accident_Information_Remake.csv\")\n"
     ]
    }
   ],
   "source": [
    "# Đọc dữ liệu từ CSV\n",
    "df = rd.Remake()\n",
    "\n",
    "# Kết nối tới database SQLite\n",
    "conn = sqlite3.connect('your_database.db')"
   ]
  },
  {
   "cell_type": "code",
   "execution_count": 24,
   "metadata": {},
   "outputs": [
    {
     "name": "stdout",
     "output_type": "stream",
     "text": [
      "              name\n",
      "0  your_table_name\n",
      "1    accident_data\n"
     ]
    }
   ],
   "source": [
    "query = \"SELECT name FROM sqlite_master WHERE type='table';\"\n",
    "tables = pd.read_sql_query(query, conn)\n",
    "print(tables)\n"
   ]
  },
  {
   "cell_type": "code",
   "execution_count": null,
   "metadata": {},
   "outputs": [
    {
     "name": "stdout",
     "output_type": "stream",
     "text": [
      "Các bảng hiện có:               name\n",
      "0  your_table_name\n",
      "1    accident_data\n"
     ]
    }
   ],
   "source": [
    "\n",
    "# Đọc dữ liệu từ CSV\n",
    "df = df = rd.Remake()\n",
    "\n",
    "# Kết nối tới database SQLite\n",
    "conn = sqlite3.connect('your_database.db')\n",
    "\n",
    "# Nhập dữ liệu vào bảng SQLite\n",
    "df.to_sql('accident_data', conn, if_exists='replace', index=False)\n",
    "\n",
    "# Kiểm tra lại xem bảng đã có dữ liệu\n",
    "print(\"Các bảng hiện có:\", pd.read_sql_query(\"SELECT name FROM sqlite_master WHERE type='table';\", conn))\n",
    "\n",
    "# Đóng kết nối\n",
    "conn.close()\n"
   ]
  },
  {
   "cell_type": "code",
   "execution_count": 27,
   "metadata": {},
   "outputs": [
    {
     "name": "stdout",
     "output_type": "stream",
     "text": [
      "             Weather Conditions  Accident_Count\n",
      "0            Fine no high winds         1640095\n",
      "1         Raining no high winds          239281\n",
      "2                         Other           44083\n",
      "3                       Unknown           42521\n",
      "4          Raining + high winds           28343\n",
      "5             Fine + high winds           25816\n",
      "6         Snowing no high winds           13387\n",
      "7                   Fog or mist           11068\n",
      "8          Snowing + high winds            2487\n",
      "9  Data missing or out of range             175\n"
     ]
    }
   ],
   "source": [
    "\n",
    "\n",
    "# Mở kết nối tới database SQLite\n",
    "conn = sqlite3.connect('your_database.db')\n",
    "\n",
    "# Thực hiện truy vấn đếm số lượng tai nạn theo từng loại thời tiết\n",
    "query = '''\n",
    "SELECT \"Weather Conditions\", COUNT(*) AS Accident_Count\n",
    "FROM accident_data\n",
    "GROUP BY \"Weather Conditions\"\n",
    "ORDER BY Accident_Count DESC;\n",
    "'''\n",
    "\n",
    "# Thực hiện truy vấn và lưu kết quả vào DataFrame\n",
    "result = pd.read_sql_query(query, conn)\n",
    "\n",
    "# Hiển thị kết quả\n",
    "print(result)\n",
    "\n",
    "# Đóng kết nối sau khi truy vấn hoàn tất\n",
    "conn.close()\n"
   ]
  },
  {
   "cell_type": "code",
   "execution_count": null,
   "metadata": {},
   "outputs": [
    {
     "name": "stdout",
     "output_type": "stream",
     "text": [
      "    Year  Serious_Accident_Count\n",
      "0   2005                   25029\n",
      "1   2006                   24946\n",
      "2   2007                   24322\n",
      "3   2008                   23121\n",
      "4   2009                   21997\n",
      "5   2010                   20440\n",
      "6   2011                   20986\n",
      "7   2012                   20901\n",
      "8   2013                   19624\n",
      "9   2014                   20676\n",
      "10  2015                   20038\n",
      "11  2016                   21725\n",
      "12  2017                   22534\n"
     ]
    }
   ],
   "source": [
    "# Mở kết nối tới database SQLite\n",
    "conn = sqlite3.connect('your_database.db')\n",
    "\n",
    "# Thực hiện truy vấn đếm số lượng tai nạn nghiêm trọng theo năm\n",
    "query = '''\n",
    "SELECT Year, COUNT(*) AS Serious_Accident_Count\n",
    "FROM accident_data\n",
    "WHERE \"Accident Severity\" = 'Serious'\n",
    "GROUP BY Year\n",
    "ORDER BY Year;\n",
    "'''\n",
    "\n",
    "# Thực hiện truy vấn và lưu kết quả vào DataFrame\n",
    "result = pd.read_sql_query(query, conn)\n",
    "\n",
    "# Hiển thị kết quả\n",
    "print(result)\n",
    "\n",
    "# Đóng kết nối sau khi truy vấn hoàn tất\n",
    "conn.close()"
   ]
  },
  {
   "cell_type": "code",
   "execution_count": 35,
   "metadata": {},
   "outputs": [
    {
     "name": "stdout",
     "output_type": "stream",
     "text": [
      "  Day of Week  Serious_Accident_Count\n",
      "0      Friday                   45877\n",
      "1    Saturday                   41986\n",
      "2    Thursday                   41376\n",
      "3   Wednesday                   40683\n",
      "4     Tuesday                   40503\n",
      "5      Monday                   38588\n",
      "6      Sunday                   37326\n"
     ]
    }
   ],
   "source": [
    "# Mở kết nối tới database SQLite\n",
    "conn = sqlite3.connect('your_database.db')\n",
    "\n",
    "# Thực hiện truy vấn đếm số lượng tai nạn nghiêm trọng tập trung vào ngày nào trong tuần\n",
    "query = '''\n",
    "SELECT \"Day of Week\", COUNT(*) AS Serious_Accident_Count\n",
    "FROM accident_data\n",
    "WHERE \"Accident Severity\" = 'Serious'\n",
    "GROUP BY \"Day of Week\"\n",
    "ORDER BY Serious_Accident_Count DESC;\n",
    "'''\n",
    "\n",
    "# Thực hiện truy vấn và lưu kết quả vào DataFrame\n",
    "result = pd.read_sql_query(query, conn)\n",
    "\n",
    "# Hiển thị kết quả\n",
    "print(result)\n",
    "\n",
    "# Đóng kết nối sau khi truy vấn hoàn tất\n",
    "conn.close()"
   ]
  },
  {
   "cell_type": "code",
   "execution_count": null,
   "metadata": {},
   "outputs": [
    {
     "name": "stdout",
     "output_type": "stream",
     "text": [
      "        Road Surface Conditions  Accident_Count\n",
      "0                           Dry         1418215\n",
      "1                   Wet or damp          568563\n",
      "2                  Frost or ice           40321\n",
      "3                          Snow           12167\n",
      "4  Data missing or out of range            5145\n",
      "5          Flood over 3cm. deep            2845\n"
     ]
    }
   ],
   "source": [
    "# Mở kết nối tới database SQLite\n",
    "conn = sqlite3.connect('your_database.db')\n",
    "\n",
    "# Thực hiện truy vấn đếm số lượng tai nạn theo từng loại đường\n",
    "query = '''\n",
    "SELECT \"Road Surface Conditions\", COUNT(*) AS Accident_Count\n",
    "FROM accident_data\n",
    "GROUP BY \"Road Surface Conditions\"\n",
    "ORDER BY Accident_Count DESC;\n",
    "'''\n",
    "\n",
    "# Thực hiện truy vấn và lưu kết quả vào DataFrame\n",
    "result = pd.read_sql_query(query, conn)\n",
    "\n",
    "# Hiển thị kết quả\n",
    "print(result)\n",
    "\n",
    "# Đóng kết nối sau khi truy vấn hoàn tất\n",
    "conn.close()"
   ]
  },
  {
   "cell_type": "code",
   "execution_count": 32,
   "metadata": {},
   "outputs": [
    {
     "name": "stdout",
     "output_type": "stream",
     "text": [
      "               Light Conditions  Accident_Count\n",
      "0                      Daylight         1496121\n",
      "1         Darkness - lights lit          404144\n",
      "2        Darkness - no lighting          112644\n",
      "3   Darkness - lighting unknown           24362\n",
      "4       Darkness - lights unlit            9971\n",
      "5  Data missing or out of range              14\n"
     ]
    }
   ],
   "source": [
    "# Mở kết nối tới database SQLite\n",
    "conn = sqlite3.connect('your_database.db')\n",
    "\n",
    "# Thực hiện truy vấn đếm số lượng tai nạn theo điều kiện ánh sáng\n",
    "query = '''\n",
    "SELECT \"Light Conditions\", COUNT(*) AS Accident_Count\n",
    "FROM accident_data\n",
    "GROUP BY \"Light Conditions\"\n",
    "ORDER BY Accident_Count DESC;\n",
    "'''\n",
    "\n",
    "# Thực hiện truy vấn và lưu kết quả vào DataFrame\n",
    "result = pd.read_sql_query(query, conn)\n",
    "\n",
    "# Hiển thị kết quả\n",
    "print(result)\n",
    "\n",
    "# Đóng kết nối sau khi truy vấn hoàn tất\n",
    "conn.close()"
   ]
  },
  {
   "cell_type": "code",
   "execution_count": 33,
   "metadata": {},
   "outputs": [
    {
     "name": "stdout",
     "output_type": "stream",
     "text": [
      "    Local Authority (District)  Accident_Count\n",
      "0                   Birmingham           39662\n",
      "1                        Leeds           27334\n",
      "2                  Westminster           19774\n",
      "3                 Glasgow City           18555\n",
      "4                     Bradford           18147\n",
      "..                         ...             ...\n",
      "411                   Oswestry             441\n",
      "412           Shetland Islands             399\n",
      "413         Berwick-upon-Tweed             337\n",
      "414             Orkney Islands             321\n",
      "415                   Teesdale             318\n",
      "\n",
      "[416 rows x 2 columns]\n"
     ]
    }
   ],
   "source": [
    "# Mở kết nối tới database SQLite\n",
    "conn = sqlite3.connect('your_database.db')\n",
    "\n",
    "# Thực hiện truy vấn để xem thành phố nào nhiều tai nạn nhất\n",
    "query = '''\n",
    "SELECT \"Local Authority (District)\", COUNT(*) AS Accident_Count\n",
    "FROM accident_data\n",
    "GROUP BY \"Local Authority (District)\"\n",
    "ORDER BY Accident_Count DESC;\n",
    "'''\n",
    "\n",
    "# Thực hiện truy vấn và lưu kết quả vào DataFrame\n",
    "result = pd.read_sql_query(query, conn)\n",
    "\n",
    "# Hiển thị kết quả\n",
    "print(result)\n",
    "\n",
    "# Đóng kết nối sau khi truy vấn hoàn tất\n",
    "conn.close()"
   ]
  },
  {
   "cell_type": "code",
   "execution_count": 46,
   "metadata": {},
   "outputs": [
    {
     "name": "stdout",
     "output_type": "stream",
     "text": [
      "    Hour  Accident_Count\n",
      "0     17          181881\n",
      "1     16          166024\n",
      "2     15          158028\n",
      "3     08          149480\n",
      "4     18          142417\n",
      "5     14          124227\n",
      "6     13          123497\n",
      "7     12          120279\n",
      "8     19          106202\n",
      "9     11          105685\n",
      "10    09          101223\n",
      "11    10           92494\n",
      "12    07           86904\n",
      "13    20           77981\n",
      "14    21           62229\n",
      "15    22           54211\n",
      "16    23           42979\n",
      "17    06           36591\n",
      "18    00           31077\n",
      "19    01           22746\n",
      "20    02           18036\n",
      "21    05           16861\n",
      "22    03           14648\n",
      "23    04           11400\n",
      "24  None             156\n"
     ]
    }
   ],
   "source": [
    "# Mở kết nối tới database SQLite\n",
    "conn = sqlite3.connect('your_database.db')\n",
    "\n",
    "# Thực hiện truy vấn để xem khung giờ nào nhiều tai nạn nhất\n",
    "query = '''\n",
    "SELECT strftime('%H', Time) AS Hour, COUNT(*) AS Accident_Count\n",
    "FROM accident_data\n",
    "GROUP BY Hour\n",
    "ORDER BY Accident_Count DESC;\n",
    "'''\n",
    "\n",
    "# Thực hiện truy vấn và lưu kết quả vào DataFrame\n",
    "result = pd.read_sql_query(query, conn)\n",
    "\n",
    "# Hiển thị kết quả\n",
    "print(result)\n",
    "\n",
    "# Đóng kết nối sau khi truy vấn hoàn tất\n",
    "conn.close()"
   ]
  },
  {
   "cell_type": "code",
   "execution_count": null,
   "metadata": {},
   "outputs": [
    {
     "name": "stdout",
     "output_type": "stream",
     "text": [
      "    Speed limit                     Road Type  Accident_Count\n",
      "0          30.0            Single carriageway         1080630\n",
      "1          60.0            Single carriageway          282856\n",
      "2          70.0              Dual carriageway          129370\n",
      "3          40.0            Single carriageway           96836\n",
      "4          30.0              Dual carriageway           86174\n",
      "5          30.0                    Roundabout           84533\n",
      "6          40.0              Dual carriageway           47844\n",
      "7          30.0                One way street           38381\n",
      "8          50.0            Single carriageway           36303\n",
      "9          20.0            Single carriageway           31214\n",
      "10         50.0              Dual carriageway           24717\n",
      "11         40.0                    Roundabout           20771\n",
      "12         60.0                    Roundabout           16019\n",
      "13         60.0              Dual carriageway           13819\n",
      "14         30.0                       Unknown           10451\n",
      "15         70.0                     Slip road            9098\n",
      "16         70.0                    Roundabout            8090\n",
      "17         50.0                    Roundabout            6178\n",
      "18         30.0                     Slip road            6005\n",
      "19         20.0                One way street            3182\n",
      "20         60.0                     Slip road            2682\n",
      "21         50.0                     Slip road            1857\n",
      "22         40.0                     Slip road            1685\n",
      "23         20.0              Dual carriageway            1481\n",
      "24         60.0                       Unknown            1392\n",
      "25         20.0                    Roundabout            1155\n",
      "26         20.0                       Unknown            1136\n",
      "27         60.0                One way street             700\n",
      "28         40.0                One way street             630\n",
      "29         40.0                       Unknown             591\n",
      "30         70.0                       Unknown             573\n",
      "31         50.0                       Unknown             238\n",
      "32         20.0                     Slip road             231\n",
      "33         50.0                One way street             186\n",
      "34         70.0                One way street             172\n",
      "35          NaN            Single carriageway              18\n",
      "36         15.0            Single carriageway              14\n",
      "37          NaN                       Unknown               9\n",
      "38          NaN                    Roundabout               8\n",
      "39         10.0            Single carriageway               8\n",
      "40         10.0                       Unknown               6\n",
      "41         10.0                One way street               5\n",
      "42         70.0            Single carriageway               2\n",
      "43          NaN              Dual carriageway               1\n",
      "44          NaN                One way street               1\n",
      "45          0.0            Single carriageway               1\n",
      "46         15.0              Dual carriageway               1\n",
      "47         15.0                One way street               1\n",
      "48         60.0  Data missing or out of range               1\n"
     ]
    }
   ],
   "source": [
    "# Mở kết nối tới database SQLite\n",
    "conn = sqlite3.connect('your_database.db')\n",
    "\n",
    "# Thực hiện truy vấn để xem loại đường đi với tốc độ nào nguy hiểm nhất\n",
    "query = '''\n",
    "SELECT \"Speed Limit\", \"Road Type\", COUNT(*) AS Accident_Count\n",
    "FROM accident_data\n",
    "GROUP BY \"Speed Limit\", \"Road Type\"\n",
    "ORDER BY Accident_Count DESC;\n",
    "\n",
    "'''\n",
    "\n",
    "# Thực hiện truy vấn và lưu kết quả vào DataFrame\n",
    "result = pd.read_sql_query(query, conn)\n",
    "\n",
    "# Hiển thị kết quả\n",
    "print(result)\n",
    "\n",
    "# Đóng kết nối sau khi truy vấn hoàn tất\n",
    "conn.close()"
   ]
  }
 ],
 "metadata": {
  "kernelspec": {
   "display_name": "Python 3",
   "language": "python",
   "name": "python3"
  },
  "language_info": {
   "codemirror_mode": {
    "name": "ipython",
    "version": 3
   },
   "file_extension": ".py",
   "mimetype": "text/x-python",
   "name": "python",
   "nbconvert_exporter": "python",
   "pygments_lexer": "ipython3",
   "version": "3.12.0"
  }
 },
 "nbformat": 4,
 "nbformat_minor": 2
}
